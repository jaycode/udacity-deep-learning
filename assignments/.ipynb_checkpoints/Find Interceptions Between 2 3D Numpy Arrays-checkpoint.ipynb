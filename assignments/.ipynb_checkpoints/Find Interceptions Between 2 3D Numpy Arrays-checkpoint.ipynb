{
 "cells": [
  {
   "cell_type": "markdown",
   "metadata": {},
   "source": [
    "Find Interceptions Between 2 3D Numpy Arrays\n",
    "=============\n",
    "\n",
    "This is needed for problem 5 in `1_notmnist` document.\n",
    "\n",
    "To do this, we need to know how to find overlap between two matrices.\n",
    "\n",
    "The following shows a way to do this on 2D arrays based on [this](http://stackoverflow.com/questions/8317022/get-intersecting-rows-across-two-2d-numpy-arrays) post:"
   ]
  },
  {
   "cell_type": "code",
   "execution_count": 49,
   "metadata": {
    "collapsed": false
   },
   "outputs": [
    {
     "data": {
      "text/plain": [
       "{'formats': [dtype('int64'), dtype('int64')], 'names': ['f0', 'f1']}"
      ]
     },
     "execution_count": 49,
     "metadata": {},
     "output_type": "execute_result"
    }
   ],
   "source": [
    "import numpy as np\n",
    "\n",
    "a = np.array([[1,4],[2,5],[3,6],[9,10]])\n",
    "b = np.array([[1,4],[3,6],[7,8]])\n",
    "nrows, ncols = a.shape\n",
    "dtype = {'names': ['f{}'.format(i) for i in range(ncols)],\n",
    "         'formats': ncols * [a.dtype]}\n",
    "dtype"
   ]
  },
  {
   "cell_type": "markdown",
   "metadata": {},
   "source": [
    "`dtype` is used to explain type of each cell in a numpy array. Below is how an array looks with and without `dtype` view:"
   ]
  },
  {
   "cell_type": "code",
   "execution_count": 50,
   "metadata": {
    "collapsed": false
   },
   "outputs": [
    {
     "data": {
      "text/plain": [
       "array([[ 1,  4],\n",
       "       [ 2,  5],\n",
       "       [ 3,  6],\n",
       "       [ 9, 10]])"
      ]
     },
     "execution_count": 50,
     "metadata": {},
     "output_type": "execute_result"
    }
   ],
   "source": [
    "a"
   ]
  },
  {
   "cell_type": "code",
   "execution_count": 51,
   "metadata": {
    "collapsed": false
   },
   "outputs": [
    {
     "data": {
      "text/plain": [
       "array([[(1, 4)],\n",
       "       [(2, 5)],\n",
       "       [(3, 6)],\n",
       "       [(9, 10)]], \n",
       "      dtype=[('f0', '<i8'), ('f1', '<i8')])"
      ]
     },
     "execution_count": 51,
     "metadata": {},
     "output_type": "execute_result"
    }
   ],
   "source": [
    "a.view(dtype)"
   ]
  },
  {
   "cell_type": "markdown",
   "metadata": {},
   "source": [
    "Now we just need to run `intersect1d` method on these structured arrays to find intersections between them:"
   ]
  },
  {
   "cell_type": "code",
   "execution_count": 52,
   "metadata": {
    "collapsed": false
   },
   "outputs": [
    {
     "data": {
      "text/plain": [
       "array([(1, 4), (3, 6)], \n",
       "      dtype=[('f0', '<i8'), ('f1', '<i8')])"
      ]
     },
     "execution_count": 52,
     "metadata": {},
     "output_type": "execute_result"
    }
   ],
   "source": [
    "c = np.intersect1d(a.view(dtype), b.view(dtype))\n",
    "c"
   ]
  },
  {
   "cell_type": "markdown",
   "metadata": {},
   "source": [
    "Note that intersecting between two non-structured arrays directly will compare cell by cell as shown here:"
   ]
  },
  {
   "cell_type": "code",
   "execution_count": 53,
   "metadata": {
    "collapsed": false
   },
   "outputs": [
    {
     "data": {
      "text/plain": [
       "array([1, 3, 4, 6])"
      ]
     },
     "execution_count": 53,
     "metadata": {},
     "output_type": "execute_result"
    }
   ],
   "source": [
    "c = np.intersect1d(a, b)\n",
    "c"
   ]
  },
  {
   "cell_type": "markdown",
   "metadata": {},
   "source": [
    "To turn this into our initial matrix, we reshape it:"
   ]
  },
  {
   "cell_type": "code",
   "execution_count": 54,
   "metadata": {
    "collapsed": false
   },
   "outputs": [
    {
     "data": {
      "text/plain": [
       "array([[1, 3],\n",
       "       [4, 6]])"
      ]
     },
     "execution_count": 54,
     "metadata": {},
     "output_type": "execute_result"
    }
   ],
   "source": [
    "cview = c.view(a.dtype).reshape(-1, ncols)\n",
    "cview"
   ]
  },
  {
   "cell_type": "markdown",
   "metadata": {},
   "source": [
    "How about three dimensional arrays?"
   ]
  },
  {
   "cell_type": "code",
   "execution_count": 55,
   "metadata": {
    "collapsed": false
   },
   "outputs": [],
   "source": [
    "A = np.array([\n",
    "    [\n",
    "      [1.01, 2.01, 3.01],\n",
    "      [4.01, 5.01, 6.01],\n",
    "      [7.01, 8.01, 9.01]\n",
    "    ],\n",
    "    [\n",
    "      [1.01, 2.01, 3.01],\n",
    "      [4.01, 5.01, 6.01],\n",
    "      [7.01, 8.01, 9.01]\n",
    "    ],\n",
    "    [\n",
    "      [1.01, 1.01, 1.01],\n",
    "      [2.01, 2.01, 2.01],\n",
    "      [3.01, 3.01, 3.01]\n",
    "    ],\n",
    "    [\n",
    "      [10.01, 10.01, 10.01],\n",
    "      [11.01, 11.01, 11.01],\n",
    "      [12.01, 12.01, 12.01]\n",
    "    ],\n",
    "    [\n",
    "      [1.01, 2.01, 3.01],\n",
    "      [4.01, 5.01, 6.01],\n",
    "      [12.01, 12.01, 12.01]\n",
    "    ]\n",
    "  ])\n",
    "\n",
    "B = np.array([\n",
    "    [\n",
    "      [1.01, 1.01, 1.01],\n",
    "      [3.01, 4.01, 5.01],\n",
    "      [3.01, 3.01, 3.01]\n",
    "    ],\n",
    "    [\n",
    "      [1.01, 2.01, 3.01],\n",
    "      [2.01, 2.01, 2.01],\n",
    "      [3.01, 3.01, 3.01]\n",
    "    ],\n",
    "    [\n",
    "      [10.01, 10.01, 10.01],\n",
    "      [11.01, 11.01, 11.01],\n",
    "      [12.01, 12.01, 12.01]\n",
    "    ]\n",
    "  ])\n",
    "\n",
    "C = np.array([\n",
    "    [\n",
    "      [1.01, 1.01, 1.01],\n",
    "      [2.01, 2.01, 2.01],\n",
    "      [3.01, 3.01, 3.01]\n",
    "    ],\n",
    "    [\n",
    "      [1.01, 1.01, 1.01],\n",
    "      [2.01, 2.01, 2.01],\n",
    "      [3.01, 3.01, 3.01]\n",
    "    ]\n",
    "  ])\n",
    "\n",
    "D = np.array([\n",
    "    [\n",
    "      [10.01, 10.01, 10.01],\n",
    "      [11.01, 11.01, 11.01],\n",
    "      [12.01, 12.01, 12.01]\n",
    "    ],\n",
    "    [\n",
    "      [10.01, 10.01, 10.01],\n",
    "      [11.01, 11.01, 11.01],\n",
    "      [12.01, 12.01, 12.01]\n",
    "    ]\n",
    "  ])"
   ]
  },
  {
   "cell_type": "markdown",
   "metadata": {},
   "source": [
    "First, direct intersection, which will compare cell by cell as demonstrated below:"
   ]
  },
  {
   "cell_type": "code",
   "execution_count": 56,
   "metadata": {
    "collapsed": false
   },
   "outputs": [
    {
     "name": "stdout",
     "output_type": "stream",
     "text": [
      "[  1.01   2.01   3.01   4.01   5.01  10.01  11.01  12.01]\n",
      "[ 1.01  2.01  3.01]\n",
      "[ 10.01  11.01  12.01]\n"
     ]
    }
   ],
   "source": [
    "print(np.intersect1d(A,B))\n",
    "print(np.intersect1d(A,C))\n",
    "print(np.intersect1d(A,D))"
   ]
  },
  {
   "cell_type": "markdown",
   "metadata": {},
   "source": [
    "Using `np.where` is useless:"
   ]
  },
  {
   "cell_type": "code",
   "execution_count": 57,
   "metadata": {
    "collapsed": false
   },
   "outputs": [
    {
     "data": {
      "text/plain": [
       "array([], shape=(0, 3, 3), dtype=float64)"
      ]
     },
     "execution_count": 57,
     "metadata": {},
     "output_type": "execute_result"
    }
   ],
   "source": [
    "A[np.where(A == C)]"
   ]
  },
  {
   "cell_type": "markdown",
   "metadata": {},
   "source": [
    "Let's do this with similar method as previously, that is by:\n",
    "1. Flatten matrices.\n",
    "2. Create `dtype` for all matrices.\n",
    "3. Use `intersect1d` to find intersections between flattened matrices.\n",
    "4. Reshape the intersected matrix.\n",
    "\n",
    "We will first code each part on its own, then create a function to use in our code:"
   ]
  },
  {
   "cell_type": "code",
   "execution_count": 67,
   "metadata": {
    "collapsed": true
   },
   "outputs": [],
   "source": [
    "# Flatten matrices\n",
    "A_flat = np.array([x.ravel() for x in A])\n",
    "B_flat = np.array([x.ravel() for x in B])"
   ]
  },
  {
   "cell_type": "code",
   "execution_count": 69,
   "metadata": {
    "collapsed": false
   },
   "outputs": [
    {
     "data": {
      "text/plain": [
       "{'formats': [dtype('float64'),\n",
       "  dtype('float64'),\n",
       "  dtype('float64'),\n",
       "  dtype('float64'),\n",
       "  dtype('float64'),\n",
       "  dtype('float64'),\n",
       "  dtype('float64'),\n",
       "  dtype('float64'),\n",
       "  dtype('float64')],\n",
       " 'names': ['f0', 'f1', 'f2', 'f3', 'f4', 'f5', 'f6', 'f7', 'f8']}"
      ]
     },
     "execution_count": 69,
     "metadata": {},
     "output_type": "execute_result"
    }
   ],
   "source": [
    "# Create dtype for all matrices\n",
    "nrows, ncols = A_flat.shape\n",
    "dtype = {'names': ['f{}'.format(i) for i in range(ncols)],\n",
    "         'formats': ncols * [A_flat.dtype]}\n",
    "dtype"
   ]
  },
  {
   "cell_type": "markdown",
   "metadata": {},
   "source": [
    "How do the data look with given `dtype` view?"
   ]
  },
  {
   "cell_type": "code",
   "execution_count": 70,
   "metadata": {
    "collapsed": false
   },
   "outputs": [
    {
     "data": {
      "text/plain": [
       "array([[(1.01, 2.01, 3.01, 4.01, 5.01, 6.01, 7.01, 8.01, 9.01)],\n",
       "       [(1.01, 2.01, 3.01, 4.01, 5.01, 6.01, 7.01, 8.01, 9.01)],\n",
       "       [(1.01, 1.01, 1.01, 2.01, 2.01, 2.01, 3.01, 3.01, 3.01)],\n",
       "       [(10.01, 10.01, 10.01, 11.01, 11.01, 11.01, 12.01, 12.01, 12.01)],\n",
       "       [(1.01, 2.01, 3.01, 4.01, 5.01, 6.01, 12.01, 12.01, 12.01)]], \n",
       "      dtype=[('f0', '<f8'), ('f1', '<f8'), ('f2', '<f8'), ('f3', '<f8'), ('f4', '<f8'), ('f5', '<f8'), ('f6', '<f8'), ('f7', '<f8'), ('f8', '<f8')])"
      ]
     },
     "execution_count": 70,
     "metadata": {},
     "output_type": "execute_result"
    }
   ],
   "source": [
    "A_flat.view(dtype)"
   ]
  },
  {
   "cell_type": "code",
   "execution_count": 71,
   "metadata": {
    "collapsed": false
   },
   "outputs": [
    {
     "data": {
      "text/plain": [
       "array([[(1.01, 1.01, 1.01, 3.01, 4.01, 5.01, 3.01, 3.01, 3.01)],\n",
       "       [(1.01, 2.01, 3.01, 2.01, 2.01, 2.01, 3.01, 3.01, 3.01)],\n",
       "       [(10.01, 10.01, 10.01, 11.01, 11.01, 11.01, 12.01, 12.01, 12.01)]], \n",
       "      dtype=[('f0', '<f8'), ('f1', '<f8'), ('f2', '<f8'), ('f3', '<f8'), ('f4', '<f8'), ('f5', '<f8'), ('f6', '<f8'), ('f7', '<f8'), ('f8', '<f8')])"
      ]
     },
     "execution_count": 71,
     "metadata": {},
     "output_type": "execute_result"
    }
   ],
   "source": [
    "B_flat.view(dtype)"
   ]
  },
  {
   "cell_type": "code",
   "execution_count": 107,
   "metadata": {
    "collapsed": false
   },
   "outputs": [
    {
     "data": {
      "text/plain": [
       "array([(10.01, 10.01, 10.01, 11.01, 11.01, 11.01, 12.01, 12.01, 12.01)], \n",
       "      dtype=[('f0', '<f8'), ('f1', '<f8'), ('f2', '<f8'), ('f3', '<f8'), ('f4', '<f8'), ('f5', '<f8'), ('f6', '<f8'), ('f7', '<f8'), ('f8', '<f8')])"
      ]
     },
     "execution_count": 107,
     "metadata": {},
     "output_type": "execute_result"
    }
   ],
   "source": [
    "# Find intersections between flattened matrices\n",
    "Z_flat = np.intersect1d(A_flat.view(dtype), B_flat.view(dtype))\n",
    "Z_flat"
   ]
  },
  {
   "cell_type": "code",
   "execution_count": 109,
   "metadata": {
    "collapsed": false
   },
   "outputs": [
    {
     "data": {
      "text/plain": [
       "array([[[ 10.01,  10.01,  10.01],\n",
       "        [ 11.01,  11.01,  11.01],\n",
       "        [ 12.01,  12.01,  12.01]]])"
      ]
     },
     "execution_count": 109,
     "metadata": {},
     "output_type": "execute_result"
    }
   ],
   "source": [
    "# Reshape the intersected matrix\n",
    "_ndata, nrows, ncols = A.shape\n",
    "Z = np.array([np.array([x for x in y]).reshape(nrows,ncols) for y in Z_flat])\n",
    "Z"
   ]
  },
  {
   "cell_type": "code",
   "execution_count": null,
   "metadata": {
    "collapsed": true
   },
   "outputs": [],
   "source": [
    "def intersect3d(A, B):\n",
    "  \"\"\"Function to intersect two 3d matrices.\n",
    "  Args:\n",
    "    A(numpy.array): 3 dimensional numpy array.\n",
    "    B(numpy.array): 3 dimensional numpy array.\n",
    "  Returns:\n",
    "    numpy.array: 3 dimensional numpy array.\n",
    "  \"\"\"\n",
    "  # Flatten matrices\n",
    "  A_flat = np.array([x.ravel() for x in A])\n",
    "  B_flat = np.array([x.ravel() for x in B])\n",
    "\n",
    "  # Create dtype for all matrices\n",
    "  nrows, ncols = A_flat.shape\n",
    "  dtype = {'names': ['f{}'.format(i) for i in range(ncols)],\n",
    "           'formats': ncols * [A_flat.dtype]}\n",
    "  dtype\n",
    "  \n",
    "  # Find intersections between flattened matrices\n",
    "  C_flat = np.intersect1d(A_flat.view(dtype), B_flat.view(dtype))\n",
    "  C_flat\n",
    "  \n",
    "  # Reshape the intersected matrix\n",
    "  _ndata, nrows, ncols = A.shape\n",
    "  C = np.array([np.array([x for x in y]).reshape(nrows,ncols) for y in C_flat])\n",
    "  return C"
   ]
  },
  {
   "cell_type": "markdown",
   "metadata": {},
   "source": [
    "Let's try to use it on our 3d matrices:"
   ]
  },
  {
   "cell_type": "code",
   "execution_count": null,
   "metadata": {
    "collapsed": false
   },
   "outputs": [],
   "source": [
    "print(\"A and B:\")\n",
    "print(intersect3d(A,B))\n",
    "print(\"\\nA and C:\")\n",
    "print(intersect3d(A,C))\n",
    "print(\"\\nA and D:\")\n",
    "print(intersect3d(A,D))"
   ]
  },
  {
   "cell_type": "code",
   "execution_count": null,
   "metadata": {
    "collapsed": true
   },
   "outputs": [],
   "source": []
  },
  {
   "cell_type": "code",
   "execution_count": null,
   "metadata": {
    "collapsed": true
   },
   "outputs": [],
   "source": []
  }
 ],
 "metadata": {
  "colab": {
   "default_view": {},
   "name": "1_notmnist.ipynb",
   "provenance": [],
   "version": "0.3.2",
   "views": {}
  },
  "kernelspec": {
   "display_name": "Python 2",
   "language": "python",
   "name": "python2"
  },
  "language_info": {
   "codemirror_mode": {
    "name": "ipython",
    "version": 2
   },
   "file_extension": ".py",
   "mimetype": "text/x-python",
   "name": "python",
   "nbconvert_exporter": "python",
   "pygments_lexer": "ipython2",
   "version": "2.7.6"
  }
 },
 "nbformat": 4,
 "nbformat_minor": 0
}
