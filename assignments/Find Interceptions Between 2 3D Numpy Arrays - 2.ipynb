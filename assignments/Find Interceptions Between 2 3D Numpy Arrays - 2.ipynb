{
 "cells": [
  {
   "cell_type": "markdown",
   "metadata": {
    "colab_type": "text",
    "id": "5hIbr52I7Z7U"
   },
   "source": [
    "Find Interceptions Between 2 3D Numpy Arrays\n",
    "=============\n",
    "\n",
    "This is needed for problem 5 in "
   ]
  },
  {
   "cell_type": "markdown",
   "metadata": {
    "colab_type": "text",
    "id": "puDUTe6t6USl"
   },
   "source": [
    "---\n",
    "Problem 4\n",
    "---------\n",
    "Convince yourself that the data is still good after shuffling!\n",
    "\n",
    "---"
   ]
  },
  {
   "cell_type": "code",
   "execution_count": 19,
   "metadata": {
    "collapsed": false
   },
   "outputs": [
    {
     "name": "stdout",
     "output_type": "stream",
     "text": [
      "Distribution of train datasets\n",
      "class: a, total: 20000(10.0% of all data)\n",
      "class: b, total: 20000(10.0% of all data)\n",
      "class: c, total: 20000(10.0% of all data)\n",
      "class: d, total: 20000(10.0% of all data)\n",
      "class: e, total: 20000(10.0% of all data)\n",
      "class: f, total: 20000(10.0% of all data)\n",
      "class: g, total: 20000(10.0% of all data)\n",
      "class: h, total: 20000(10.0% of all data)\n",
      "class: i, total: 20000(10.0% of all data)\n",
      "class: j, total: 20000(10.0% of all data)\n",
      "------------------------------\n",
      "Distribution of test datasets\n",
      "class: a, total: 1000(10.0% of all data)\n",
      "class: b, total: 1000(10.0% of all data)\n",
      "class: c, total: 1000(10.0% of all data)\n",
      "class: d, total: 1000(10.0% of all data)\n",
      "class: e, total: 1000(10.0% of all data)\n",
      "class: f, total: 1000(10.0% of all data)\n",
      "class: g, total: 1000(10.0% of all data)\n",
      "class: h, total: 1000(10.0% of all data)\n",
      "class: i, total: 1000(10.0% of all data)\n",
      "class: j, total: 1000(10.0% of all data)\n",
      "------------------------------\n",
      "Distribution of validation datasets\n",
      "class: a, total: 1000(10.0% of all data)\n",
      "class: b, total: 1000(10.0% of all data)\n",
      "class: c, total: 1000(10.0% of all data)\n",
      "class: d, total: 1000(10.0% of all data)\n",
      "class: e, total: 1000(10.0% of all data)\n",
      "class: f, total: 1000(10.0% of all data)\n",
      "class: g, total: 1000(10.0% of all data)\n",
      "class: h, total: 1000(10.0% of all data)\n",
      "class: i, total: 1000(10.0% of all data)\n",
      "class: j, total: 1000(10.0% of all data)\n"
     ]
    }
   ],
   "source": [
    "import pdb\n",
    "def check_distribution(labels):\n",
    "  infos = []\n",
    "  for index, label in enumerate('a b c d e f g h i j'.split()):\n",
    "    infos.append({\n",
    "        'label': label,\n",
    "        'total': labels[labels == index].shape[0]\n",
    "    })\n",
    "  \n",
    "  for info in infos:\n",
    "    percentage = round(float(info['total']) / float(labels.shape[0]) * 100, 2)\n",
    "    print(\"class: {}, total: {}({}% of all data)\".format(info['label'], info['total'], percentage))\n",
    "    \n",
    "print(\"Distribution of train dataset\")\n",
    "check_distribution(train_labels)\n",
    "print(\"------------------------------\")\n",
    "print(\"Distribution of test dataset\")\n",
    "check_distribution(test_labels)\n",
    "print(\"------------------------------\")\n",
    "print(\"Distribution of validation dataset\")\n",
    "check_distribution(valid_labels)"
   ]
  },
  {
   "cell_type": "markdown",
   "metadata": {
    "colab_type": "text",
    "id": "tIQJaJuwg5Hw"
   },
   "source": [
    "Finally, let's save the data for later reuse:"
   ]
  },
  {
   "cell_type": "code",
   "execution_count": 20,
   "metadata": {
    "cellView": "both",
    "colab": {
     "autoexec": {
      "startup": false,
      "wait_interval": 0
     }
    },
    "colab_type": "code",
    "collapsed": true,
    "id": "QiR_rETzem6C"
   },
   "outputs": [],
   "source": [
    "pickle_file = 'notMNIST.pickle'\n",
    "\n",
    "try:\n",
    "  f = open(pickle_file, 'wb')\n",
    "  save = {\n",
    "    'train_dataset': train_dataset,\n",
    "    'train_labels': train_labels,\n",
    "    'valid_dataset': valid_dataset,\n",
    "    'valid_labels': valid_labels,\n",
    "    'test_dataset': test_dataset,\n",
    "    'test_labels': test_labels,\n",
    "    }\n",
    "  pickle.dump(save, f, pickle.HIGHEST_PROTOCOL)\n",
    "  f.close()\n",
    "except Exception as e:\n",
    "  print('Unable to save data to', pickle_file, ':', e)\n",
    "  raise"
   ]
  },
  {
   "cell_type": "code",
   "execution_count": 21,
   "metadata": {
    "cellView": "both",
    "colab": {
     "autoexec": {
      "startup": false,
      "wait_interval": 0
     },
     "output_extras": [
      {
       "item_id": 1
      }
     ]
    },
    "colab_type": "code",
    "collapsed": false,
    "executionInfo": {
     "elapsed": 413065,
     "status": "ok",
     "timestamp": 1444485899688,
     "user": {
      "color": "#1FA15D",
      "displayName": "Vincent Vanhoucke",
      "isAnonymous": false,
      "isMe": true,
      "permissionId": "05076109866853157986",
      "photoUrl": "//lh6.googleusercontent.com/-cCJa7dTDcgQ/AAAAAAAAAAI/AAAAAAAACgw/r2EZ_8oYer4/s50-c-k-no/photo.jpg",
      "sessionId": "2a0a5e044bb03b66",
      "userId": "102167687554210253930"
     },
     "user_tz": 420
    },
    "id": "hQbLjrW_iT39",
    "outputId": "b440efc6-5ee1-4cbc-d02d-93db44ebd956"
   },
   "outputs": [
    {
     "name": "stdout",
     "output_type": "stream",
     "text": [
      "Compressed pickle size: 690800441\n"
     ]
    }
   ],
   "source": [
    "statinfo = os.stat(pickle_file)\n",
    "print('Compressed pickle size:', statinfo.st_size)"
   ]
  },
  {
   "cell_type": "markdown",
   "metadata": {
    "colab_type": "text",
    "id": "gE_cRAQB33lk"
   },
   "source": [
    "---\n",
    "Problem 5\n",
    "---------\n",
    "\n",
    "By construction, this dataset might contain a lot of overlapping samples, including training data that's also contained in the validation and test set! Overlap between training and test can skew the results if you expect to use your model in an environment where there is never an overlap, but are actually ok if you expect to see training samples recur when you use it.\n",
    "Measure how much overlap there is between training, validation and test samples.\n",
    "\n",
    "Optional questions:\n",
    "- What about near duplicates between datasets? (images that are almost identical)\n",
    "- Create a sanitized validation and test set, and compare your accuracy on those in subsequent assignments.\n",
    "---"
   ]
  },
  {
   "cell_type": "markdown",
   "metadata": {},
   "source": [
    "Alright, this is tricky. To do this, we need to know how to find overlap between two matrices.\n",
    "\n",
    "The following shows a way to do this on 2D arrays based on [this](http://stackoverflow.com/questions/8317022/get-intersecting-rows-across-two-2d-numpy-arrays) post:"
   ]
  },
  {
   "cell_type": "code",
   "execution_count": 78,
   "metadata": {
    "collapsed": false
   },
   "outputs": [
    {
     "data": {
      "text/plain": [
       "{'formats': [dtype('int64'), dtype('int64')], 'names': ['f0', 'f1']}"
      ]
     },
     "execution_count": 78,
     "metadata": {},
     "output_type": "execute_result"
    }
   ],
   "source": [
    "a = np.array([[1,4],[2,5],[3,6],[9,10]])\n",
    "b = np.array([[1,4],[3,6],[7,8]])\n",
    "nrows, ncols = a.shape\n",
    "dtype = {'names': ['f{}'.format(i) for i in range(ncols)],\n",
    "         'formats': ncols * [a.dtype]}\n",
    "dtype"
   ]
  },
  {
   "cell_type": "markdown",
   "metadata": {},
   "source": [
    "`dtype` is used to explain type of each cell in a numpy array. Below is how an array looks with and without `dtype` view:"
   ]
  },
  {
   "cell_type": "code",
   "execution_count": 80,
   "metadata": {
    "collapsed": false
   },
   "outputs": [
    {
     "data": {
      "text/plain": [
       "array([[ 1,  4],\n",
       "       [ 2,  5],\n",
       "       [ 3,  6],\n",
       "       [ 9, 10]])"
      ]
     },
     "execution_count": 80,
     "metadata": {},
     "output_type": "execute_result"
    }
   ],
   "source": [
    "a"
   ]
  },
  {
   "cell_type": "code",
   "execution_count": 81,
   "metadata": {
    "collapsed": false
   },
   "outputs": [
    {
     "data": {
      "text/plain": [
       "array([[(1, 4)],\n",
       "       [(2, 5)],\n",
       "       [(3, 6)],\n",
       "       [(9, 10)]], \n",
       "      dtype=[('f0', '<i8'), ('f1', '<i8')])"
      ]
     },
     "execution_count": 81,
     "metadata": {},
     "output_type": "execute_result"
    }
   ],
   "source": [
    "a.view(dtype)"
   ]
  },
  {
   "cell_type": "markdown",
   "metadata": {},
   "source": [
    "Now we just need to run `intersect1d` method on these structured arrays to find intersections between them:"
   ]
  },
  {
   "cell_type": "code",
   "execution_count": 83,
   "metadata": {
    "collapsed": false
   },
   "outputs": [
    {
     "data": {
      "text/plain": [
       "array([(1, 4), (3, 6)], \n",
       "      dtype=[('f0', '<i8'), ('f1', '<i8')])"
      ]
     },
     "execution_count": 83,
     "metadata": {},
     "output_type": "execute_result"
    }
   ],
   "source": [
    "c = np.intersect1d(a.view(dtype), b.view(dtype))\n",
    "c"
   ]
  },
  {
   "cell_type": "markdown",
   "metadata": {},
   "source": [
    "Note that intersecting between two non-structured arrays directly will compare cell by cell as shown here:"
   ]
  },
  {
   "cell_type": "code",
   "execution_count": 82,
   "metadata": {
    "collapsed": false
   },
   "outputs": [
    {
     "data": {
      "text/plain": [
       "array([1, 3, 4, 6])"
      ]
     },
     "execution_count": 82,
     "metadata": {},
     "output_type": "execute_result"
    }
   ],
   "source": [
    "c = np.intersect1d(a, b)\n",
    "c"
   ]
  },
  {
   "cell_type": "markdown",
   "metadata": {},
   "source": [
    "To turn this into our initial matrix, we reshape it:"
   ]
  },
  {
   "cell_type": "code",
   "execution_count": 84,
   "metadata": {
    "collapsed": false
   },
   "outputs": [
    {
     "data": {
      "text/plain": [
       "array([[1, 4],\n",
       "       [3, 6]])"
      ]
     },
     "execution_count": 84,
     "metadata": {},
     "output_type": "execute_result"
    }
   ],
   "source": [
    "cview = c.view(a.dtype).reshape(-1, ncols)\n",
    "cview"
   ]
  },
  {
   "cell_type": "markdown",
   "metadata": {},
   "source": [
    "How about three dimensional arrays?"
   ]
  },
  {
   "cell_type": "code",
   "execution_count": 124,
   "metadata": {
    "collapsed": false
   },
   "outputs": [],
   "source": [
    "A = np.array([\n",
    "    [\n",
    "      [1, 2, 3],\n",
    "      [4, 5, 6],\n",
    "      [7, 8, 9]\n",
    "    ],\n",
    "    [\n",
    "      [1, 1, 1],\n",
    "      [2, 2, 2],\n",
    "      [3, 3, 3]\n",
    "    ],\n",
    "    [\n",
    "      [10, 10, 10],\n",
    "      [11, 11, 11],\n",
    "      [12, 12, 12]\n",
    "    ]\n",
    "  ])\n",
    "\n",
    "B = np.array([\n",
    "    [\n",
    "      [1, 1, 1],\n",
    "      [2, 2, 2],\n",
    "      [3, 3, 3]\n",
    "    ],\n",
    "    [\n",
    "      [1, 2, 3],\n",
    "      [4, 5, 6],\n",
    "      [7, 8, 9]\n",
    "    ]\n",
    "  ])\n",
    "\n",
    "C = np.array([\n",
    "    [\n",
    "      [1, 2, 3],\n",
    "      [4, 5, 6],\n",
    "      [7, 8, 9]\n",
    "    ],\n",
    "    [\n",
    "      [1, 1, 1],\n",
    "      [2, 2, 2],\n",
    "      [3, 3, 3]\n",
    "    ]\n",
    "  ])\n",
    "\n",
    "D = np.array([\n",
    "    [\n",
    "      [1, 2, 3],\n",
    "      [4, 5, 6],\n",
    "      [7, 8, 9]\n",
    "    ],\n",
    "    [\n",
    "      [10, 10, 10],\n",
    "      [11, 11, 11],\n",
    "      [12, 12, 12]\n",
    "    ]\n",
    "  ])"
   ]
  },
  {
   "cell_type": "markdown",
   "metadata": {},
   "source": [
    "First, direct intersection, which will compare cell by cell as demonstrated below:"
   ]
  },
  {
   "cell_type": "code",
   "execution_count": 125,
   "metadata": {
    "collapsed": false
   },
   "outputs": [
    {
     "name": "stdout",
     "output_type": "stream",
     "text": [
      "[1 2 3 4 5 6 7 8 9]\n",
      "[1 2 3 4 5 6 7 8 9]\n",
      "[ 1  2  3  4  5  6  7  8  9 10 11 12]\n"
     ]
    }
   ],
   "source": [
    "print(np.intersect1d(A,B))\n",
    "print(np.intersect1d(A,C))\n",
    "print(np.intersect1d(A,D))"
   ]
  },
  {
   "cell_type": "markdown",
   "metadata": {},
   "source": [
    "Using `np.where` is useless:"
   ]
  },
  {
   "cell_type": "code",
   "execution_count": 126,
   "metadata": {
    "collapsed": false
   },
   "outputs": [
    {
     "data": {
      "text/plain": [
       "array([], shape=(0, 3, 3), dtype=int64)"
      ]
     },
     "execution_count": 126,
     "metadata": {},
     "output_type": "execute_result"
    }
   ],
   "source": [
    "A[np.where(A == C)]"
   ]
  },
  {
   "cell_type": "markdown",
   "metadata": {},
   "source": [
    "Let's do this with similar method as previously, that is by:\n",
    "1. Create `dtype` for all matrices.\n",
    "2. Use `intersect1d` to find intersections.\n",
    "3. Reshape the intersected matrix.\n",
    "\n",
    "We will first code each part on its own, then create a function to use in our code:"
   ]
  },
  {
   "cell_type": "code",
   "execution_count": 127,
   "metadata": {
    "collapsed": false
   },
   "outputs": [
    {
     "data": {
      "text/plain": [
       "{'formats': [dtype('int64'), dtype('int64'), dtype('int64')],\n",
       " 'names': ['f0', 'f1', 'f2']}"
      ]
     },
     "execution_count": 127,
     "metadata": {},
     "output_type": "execute_result"
    }
   ],
   "source": [
    "# Create dtype for all matrices:\n",
    "ncols = A.shape[2]\n",
    "dtype = {'names': ['f{}'.format(i) for i in range(ncols)],\n",
    "         'formats': ncols * [A.dtype]}\n",
    "dtype"
   ]
  },
  {
   "cell_type": "code",
   "execution_count": 138,
   "metadata": {
    "collapsed": false
   },
   "outputs": [
    {
     "data": {
      "text/plain": [
       "array([(1, 1, 1), (1, 2, 3), (2, 2, 2), (3, 3, 3), (4, 5, 6), (7, 8, 9)], \n",
       "      dtype=[('f0', '<i8'), ('f1', '<i8'), ('f2', '<i8')])"
      ]
     },
     "execution_count": 138,
     "metadata": {},
     "output_type": "execute_result"
    }
   ],
   "source": [
    "# Find intersections\n",
    "C = np.intersect1d(A.view(dtype), B.view(dtype))\n",
    "C"
   ]
  },
  {
   "cell_type": "code",
   "execution_count": 129,
   "metadata": {
    "collapsed": false
   },
   "outputs": [
    {
     "name": "stdout",
     "output_type": "stream",
     "text": [
      "[[1 1 1]\n",
      " [1 2 3]\n",
      " [2 2 2]\n",
      " [3 3 3]\n",
      " [4 5 6]\n",
      " [7 8 9]]\n",
      "But as shown above, reshape is not needed if we want to retain the original style of matrices, so:\n"
     ]
    }
   ],
   "source": [
    "# Reshape\n",
    "Cview = C.view(A.dtype).reshape(-1, 3)\n",
    "print(Cview)\n",
    "print('But as shown above, reshape is not needed if we want to retain the original style of matrices, so:')"
   ]
  },
  {
   "cell_type": "code",
   "execution_count": 140,
   "metadata": {
    "collapsed": false
   },
   "outputs": [
    {
     "ename": "ValueError",
     "evalue": "total size of new array must be unchanged",
     "output_type": "error",
     "traceback": [
      "\u001b[1;31m---------------------------------------------------------------------------\u001b[0m",
      "\u001b[1;31mValueError\u001b[0m                                Traceback (most recent call last)",
      "\u001b[1;32m<ipython-input-140-8e2143aa67f2>\u001b[0m in \u001b[0;36m<module>\u001b[1;34m()\u001b[0m\n\u001b[1;32m----> 1\u001b[1;33m \u001b[0mCview\u001b[0m \u001b[1;33m=\u001b[0m \u001b[0mC\u001b[0m\u001b[1;33m.\u001b[0m\u001b[0mview\u001b[0m\u001b[1;33m(\u001b[0m\u001b[0mA\u001b[0m\u001b[1;33m.\u001b[0m\u001b[0mdtype\u001b[0m\u001b[1;33m)\u001b[0m\u001b[1;33m.\u001b[0m\u001b[0mreshape\u001b[0m\u001b[1;33m(\u001b[0m\u001b[1;36m3\u001b[0m\u001b[1;33m)\u001b[0m\u001b[1;33m\u001b[0m\u001b[0m\n\u001b[0m\u001b[0;32m      2\u001b[0m \u001b[1;32mprint\u001b[0m\u001b[1;33m(\u001b[0m\u001b[0mCview\u001b[0m\u001b[1;33m)\u001b[0m\u001b[1;33m\u001b[0m\u001b[0m\n",
      "\u001b[1;31mValueError\u001b[0m: total size of new array must be unchanged"
     ]
    }
   ],
   "source": [
    "Cview = C.view(A.dtype).reshape(3)\n",
    "print(Cview)"
   ]
  },
  {
   "cell_type": "code",
   "execution_count": 115,
   "metadata": {
    "collapsed": true
   },
   "outputs": [],
   "source": [
    "def intersect3d(A, B):\n",
    "  \"\"\"Function to intersect two 3d matrices.\n",
    "  Args:\n",
    "    A(numpy.array): 3 dimensional numpy array.\n",
    "    B(numpy.array): 3 dimensional numpy array.\n",
    "  Returns:\n",
    "    numpy.array: 3 dimensional numpy array.\n",
    "  \"\"\"\n",
    "  ncols = A.shape[2]\n",
    "  dtype = {'names': ['f{}'.format(i) for i in range(ncols)],\n",
    "           'formats': ncols * [A.dtype]}\n",
    "  C = np.intersect1d(A.view(dtype), B.view(dtype))\n",
    "  return C.view(A.dtype)"
   ]
  },
  {
   "cell_type": "markdown",
   "metadata": {},
   "source": [
    "Let's try to use it on our 3d matrices:"
   ]
  },
  {
   "cell_type": "code",
   "execution_count": 117,
   "metadata": {
    "collapsed": false
   },
   "outputs": [
    {
     "name": "stdout",
     "output_type": "stream",
     "text": [
      "[1 1 1 1 2 3 2 2 2 3 3 3 4 5 6 7 8 9]\n",
      "[1 1 1 1 2 3 2 2 2 3 3 3 4 5 6 7 8 9]\n",
      "[ 1  2  3  4  5  6  7  8  9 10 10 10 11 11 11 12 12 12]\n"
     ]
    },
    {
     "data": {
      "text/plain": [
       "array([1, 1, 1, 1, 2, 3, 2, 2, 2, 3, 3, 3, 4, 5, 6, 7, 8, 9])"
      ]
     },
     "execution_count": 117,
     "metadata": {},
     "output_type": "execute_result"
    }
   ],
   "source": [
    "print(intersect3d(A,B))\n",
    "print(intersect3d(A,C))\n",
    "print(intersect3d(A,D))\n",
    "x = intersect3d(A,B)\n",
    "x"
   ]
  },
  {
   "cell_type": "markdown",
   "metadata": {
    "colab_type": "text",
    "id": "L8oww1s4JMQx"
   },
   "source": [
    "---\n",
    "Problem 6\n",
    "---------\n",
    "\n",
    "Let's get an idea of what an off-the-shelf classifier can give you on this data. It's always good to check that there is something to learn, and that it's a problem that is not so trivial that a canned solution solves it.\n",
    "\n",
    "Train a simple model on this data using 50, 100, 1000 and 5000 training samples. Hint: you can use the LogisticRegression model from sklearn.linear_model.\n",
    "\n",
    "Optional question: train an off-the-shelf model on all the data!\n",
    "\n",
    "---"
   ]
  },
  {
   "cell_type": "code",
   "execution_count": null,
   "metadata": {
    "collapsed": true
   },
   "outputs": [],
   "source": []
  }
 ],
 "metadata": {
  "colab": {
   "default_view": {},
   "name": "1_notmnist.ipynb",
   "provenance": [],
   "version": "0.3.2",
   "views": {}
  },
  "kernelspec": {
   "display_name": "Python 2",
   "language": "python",
   "name": "python2"
  },
  "language_info": {
   "codemirror_mode": {
    "name": "ipython",
    "version": 2
   },
   "file_extension": ".py",
   "mimetype": "text/x-python",
   "name": "python",
   "nbconvert_exporter": "python",
   "pygments_lexer": "ipython2",
   "version": "2.7.6"
  }
 },
 "nbformat": 4,
 "nbformat_minor": 0
}
